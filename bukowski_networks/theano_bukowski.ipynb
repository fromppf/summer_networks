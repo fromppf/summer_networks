{
 "cells": [
  {
   "cell_type": "markdown",
   "metadata": {},
   "source": [
    "# Theano Neural Network on Bukowski\n",
    "On this notebook I improve the [Numpy Bukowski](https://github.com/masta-g3/summer_networks/tree/master/numpy_bukowski) poetry model by porting the code to Theano, which should perform much faster. Since the preprocessing section remains exactly the same, I start by loading the previously formatted dataset into memory."
   ]
  },
  {
   "cell_type": "code",
   "execution_count": null,
   "metadata": {
    "collapsed": true
   },
   "outputs": [],
   "source": [
    "## Import libraries.\n",
    "import itertools\n",
    "import theano\n",
    "import theano.tensor as T\n",
    "import numpy as np\n",
    "import pandas as pd\n",
    "from datetime import datetime\n",
    "import matplotlib.pyplot as plt\n",
    "import seaborn as sns\n",
    "import nltk\n",
    "\n",
    "%matplotlib inline\n",
    "plt.rcParams['figure.figsize'] = (10.0, 8.0)\n",
    "sns.set_style('whitegrid')"
   ]
  },
  {
   "cell_type": "markdown",
   "metadata": {},
   "source": [
    "## Preprocessing"
   ]
  },
  {
   "cell_type": "code",
   "execution_count": 10,
   "metadata": {
    "collapsed": false
   },
   "outputs": [],
   "source": [
    "size = 10000\n",
    "unknown_token = 'UNKNOWN_TOKEN'\n",
    "start_symbol = 'START_SYMBOL'\n",
    "stop_symbol = 'STOP_SYMBOL'\n",
    "\n",
    "content = pd.read_pickle('data/content.pkl')"
   ]
  },
  {
   "cell_type": "code",
   "execution_count": 11,
   "metadata": {
    "collapsed": false
   },
   "outputs": [
    {
     "name": "stdout",
     "output_type": "stream",
     "text": [
      "Found 16271 unique words tokens.\n"
     ]
    }
   ],
   "source": [
    "## Get word frequency.\n",
    "sentences = [content.loc[i, 'tokens'] for i in content.index]\n",
    "flattened = itertools.chain.from_iterable(sentences) \n",
    "word_freq = nltk.FreqDist(flattened)\n",
    "print 'Found %d unique words tokens.' % len(word_freq.items())"
   ]
  },
  {
   "cell_type": "code",
   "execution_count": 12,
   "metadata": {
    "collapsed": false
   },
   "outputs": [
    {
     "name": "stdout",
     "output_type": "stream",
     "text": [
      "Using vocabulary size 10000.\n",
      "The least frequent word in our vocabulary is 'pandered' and appeared 1 times.\n"
     ]
    }
   ],
   "source": [
    "## Limit vocabulary to most common words.\n",
    "vocab = word_freq.most_common(size-1)\n",
    "word_list = [x[0] for x in vocab]\n",
    "word_list.append(unknown_token)\n",
    "word_list\n",
    "word_index = dict([(w,i) for i,w in enumerate(word_list)])\n",
    "\n",
    "print 'Using vocabulary size %d.' % size\n",
    "print \"The least frequent word in our vocabulary is '%s' (%d appearance).\" % (vocab[-1][0], vocab[-1][1])"
   ]
  },
  {
   "cell_type": "code",
   "execution_count": 78,
   "metadata": {
    "collapsed": false
   },
   "outputs": [
    {
     "name": "stdout",
     "output_type": "stream",
     "text": [
      "Sample processed poem:\n",
      "\n",
      "she wrote me a letter from a small\n",
      "room near the UNKNOWN_TOKEN .\n",
      "she said she was going to dancing\n",
      "class . she got up , she said\n",
      "at 5 o'clock in the morning\n",
      "and typed at poems\n",
      "or painted\n",
      "and when she felt like crying\n",
      "she had a special bench\n",
      "by the river .\n",
      "her book of UNKNOWN_TOKEN\n",
      "would be out\n",
      "in the fall .\n",
      "i did not know what to tell her\n",
      "but\n",
      "i told her\n",
      "to get any bad teeth pulled\n",
      "and be careful of the french\n",
      "lover .\n",
      "i put her photo by the radio\n",
      "near the fan\n",
      "and it moved\n",
      "like something\n",
      "alive .\n",
      "i sat and watched it\n",
      "until i had smoked the\n",
      "5 or 6\n",
      "cigarettes left .\n",
      "then i got up\n",
      "and went to bed .\n"
     ]
    }
   ],
   "source": [
    "## Replace words not in dictionary with the unknown token.\n",
    "for i, row in content.iterrows():\n",
    "    for j, tkn in enumerate(row['tokens']):\n",
    "        if tkn not in word_list:\n",
    "            content.loc[i, 'tokens'][j] = unknown_token\n",
    "            \n",
    "print 'Sample processed poem:\\n'\n",
    "for index, row in content[content['poem'] == 45].iterrows():\n",
    "    print ' '.join(row['tokens'][1:-1])"
   ]
  },
  {
   "cell_type": "markdown",
   "metadata": {},
   "source": [
    "Ideally our network will produce a text like the above 😊. Note that given the particular style of Bukowski, we are not interested in generating perfect grammatical or syntactical structure, and indeed this algorithm does not incorporate any type of CFG, dependency parsing or any other language-specific attributes. As long as the network produces sentences with a Bukowski feel, we will have achieved our goal. "
   ]
  },
  {
   "cell_type": "code",
   "execution_count": 14,
   "metadata": {
    "collapsed": false
   },
   "outputs": [
    {
     "name": "stdout",
     "output_type": "stream",
     "text": [
      "Example Input data:  START_SYMBOL there is a UNKNOWN_TOKEN of some sort\n",
      "Example Output data: there is a UNKNOWN_TOKEN of some sort STOP_SYMBOL\n"
     ]
    }
   ],
   "source": [
    "## Convert the info into training data.\n",
    "X_train = np.asarray([[word_index[w] for w in sent[:-1]] for sent in content['tokens'].tolist()])\n",
    "y_train = np.asarray([[word_index[w] for w in sent[1:]] for sent in content['tokens'].tolist()])\n",
    "\n",
    "## Show an example.\n",
    "x_example, y_example = X_train[49], y_train[49]\n",
    "print 'Example Input data: ', \n",
    "input_sent = [word_list[i] for i in x_example]\n",
    "print ' '.join(x for x in input_sent)\n",
    "\n",
    "print 'Example Output data:', \n",
    "output_sent = [word_list[j] for j in y_example]\n",
    "print ' '.join(x for x in output_sent)"
   ]
  },
  {
   "cell_type": "markdown",
   "metadata": {},
   "source": [
    "## Building the Network\n",
    "Now that we have the data in the desired format, we start building the neural network. Our **RNNNumpy** class is made up by the following functions:\n",
    "\n",
    "* *__init__* → Initializes parameters based on the number of word dimensions, hidden dimensions and random values taken from the uniform distribution $ \\left[\\dfrac{-1}{\\sqrt{n}}, \\dfrac{1}{\\sqrt{n}}\\right] $ for (U, V & W).\n",
    "\n",
    "* *forward_propagation* → Generates the word probabilities by unfolding the neural network. Uses $tanh$ activation function for the input layer and $softmax$ for the output one.\n",
    "\n",
    "* *predict* → Returns estimated output (i.e. the word with the highest probability of occuring next) from the forward propagation estimates.\n",
    "\n",
    "* *calculate_loss* → Cross-entropy loss from prediction, as defined by the function below.\n",
    "\n",
    "    $ L(y,o) = \\dfrac{-1}{N} \\sum y_n log(o_n)$\n",
    "\n",
    "  \n",
    "* *bptt* → Back-propagation algorithm, used to estimate gradients and update parameters.\n",
    "\n",
    "* *sgd_step* → SGD to calculate gradients and perform updates in one batch."
   ]
  },
  {
   "cell_type": "code",
   "execution_count": 15,
   "metadata": {
    "collapsed": true
   },
   "outputs": [],
   "source": [
    "class RNNTheano:\n",
    "    \n",
    "    def __init__(self, w_dim, h_dim=100, bptt_max=4):\n",
    "        \n",
    "        ## Set self parameters.\n",
    "        self.w_dim = w_dim\n",
    "        self.h_dim = h_dim\n",
    "        self.bptt_max = bptt_max    \n",
    "        \n",
    "        ## Randomly initialize network parameters. Set to uniform between\n",
    "        ## [-1/n, 1/n], where 'n' is the size of incoming connections.\n",
    "        U = np.random.uniform(-np.sqrt(1./w_dim), np.sqrt(1./w_dim), (h_dim, w_dim))\n",
    "        V = np.random.uniform(-np.sqrt(1./h_dim), np.sqrt(1./h_dim), (w_dim, h_dim))\n",
    "        W = np.random.uniform(-np.sqrt(1./h_dim), np.sqrt(1./h_dim), (h_dim, h_dim))\n",
    "        \n",
    "        ## Assign to self as theano shared variables.\n",
    "        self.U = theano.shared(name='U', value=U.astype(theano.config.floatX))\n",
    "        self.V = theano.shared(name='U', value=V.astype(theano.config.floatX))\n",
    "        self.W = theano.shared(name='W', value=W.astype(theano.config.floatX))\n",
    "        \n",
    "        ## Build Model.\n",
    "        self.theano = {}\n",
    "        self.build_model()\n",
    "    \n",
    "    def build_model(self):\n",
    "        \n",
    "        ## Define parameters.\n",
    "        x = T.ivector('x')\n",
    "        y = T.ivector('y')\n",
    "        U, V, W = self.U, self.V, self.W\n",
    "        \n",
    "        ## Forward propagation to perform at each step.\n",
    "        def fwd_step(x_t, s_t_prev, U, V, W):\n",
    "            s_t = T.tanh(U[:,x_t] + W.dot(s_t_prev))\n",
    "            o_t = T.nnet.softmax(V.dot(s_t))\n",
    "            ## Softmax returns a matrix, so we convert it into a vector.\n",
    "            return [o_t[0], s_t]\n",
    "        \n",
    "        ## Iterate over all observations\n",
    "        [o,s], updates = theano.scan(fwd_step,\n",
    "                                     sequences=x,\n",
    "                                     outputs_info=[None, dict(initial = T.zeros(self.h_dim))],\n",
    "                                     non_sequences=[U,V,W],\n",
    "                                     truncate_gradient=self.bptt_max,\n",
    "                                     strict=True)\n",
    "        \n",
    "        ## Prediction and loss.\n",
    "        predict = T.argmax(o, axis=1)\n",
    "        o_error = T.sum(T.nnet.categorical_crossentropy(o, y))\n",
    "        \n",
    "        ## Define gradients.\n",
    "        dU = T.grad(o_error, U)\n",
    "        dV = T.grad(o_error, V)\n",
    "        dW = T.grad(o_error, W)\n",
    "        \n",
    "        ## Convert graph into actual functions.\n",
    "        self.fwd_prop = theano.function([x], o)\n",
    "        self.predict = theano.function([x], predict)\n",
    "        self.ce_error = theano.function([x,y], o_error)\n",
    "        self.bptt = theano.function([x,y], [dU, dV, dW])\n",
    "    \n",
    "        ## SGD.\n",
    "        l_rate = T.scalar('l_rate')\n",
    "        self.sgd_step = theano.function([x,y,l_rate], [],\n",
    "                                        updates = [(U, U - l_rate * dU),\n",
    "                                                   (V, V - l_rate * dV),\n",
    "                                                   (W, W - l_rate * dW)])\n",
    "    \n",
    "    ## Total loss function...\n",
    "    def total_loss_function(self, X, Y):\n",
    "        return np.sum([self.ce_error(x, y) for x,y in zip(X,Y)])\n",
    "        \n",
    "    ## Loss by word dimension.\n",
    "    def loss_function(self, X, Y):\n",
    "        n = np.sum([len(y) for y in Y])\n",
    "        return self.total_loss_function(X, Y) / float(n)"
   ]
  },
  {
   "cell_type": "code",
   "execution_count": 16,
   "metadata": {
    "collapsed": true
   },
   "outputs": [],
   "source": [
    "def train_with_sgd(model, X_train, y_train, l_rate=0.005, epochs=100, evaluate_after=10):\n",
    "    ## List to keep track of losses.\n",
    "    losses = []\n",
    "    examples_seen = 0\n",
    "    \n",
    "    for epoch in range(epochs):\n",
    "        if(epoch % evaluate_after == 0):\n",
    "            loss = model.loss_function(X_train, y_train)\n",
    "            losses.append((examples_seen, loss))\n",
    "            time = datetime.now().strftime('%H:%M:%S')\n",
    "            print '%s: Loss after num_examples=%d & epoch=%d: %f.' %(time, examples_seen, epoch, loss)\n",
    "            \n",
    "            ## Adjust learning rate if loss increases.\n",
    "            if(len(losses) > 1 and losses[-1][1] > losses[-2][1]):\n",
    "                l_rate = l_rate * 0.5\n",
    "                print 'Updating learning rate to %f.' %l_rate\n",
    "\n",
    "        ## For each training example...\n",
    "        for i in range(len(y_train)):\n",
    "            ## do one SGD step.\n",
    "            model.sgd_step(X_train[i], y_train[i], l_rate)\n",
    "            examples_seen += 1\n",
    "    \n",
    "    return losses"
   ]
  },
  {
   "cell_type": "markdown",
   "metadata": {},
   "source": [
    "## Training the Model"
   ]
  },
  {
   "cell_type": "code",
   "execution_count": 17,
   "metadata": {
    "collapsed": false
   },
   "outputs": [],
   "source": [
    "## Create model with theano.\n",
    "model = RNNTheano(size)"
   ]
  },
  {
   "cell_type": "code",
   "execution_count": 37,
   "metadata": {
    "collapsed": false
   },
   "outputs": [
    {
     "name": "stdout",
     "output_type": "stream",
     "text": [
      "23:19:48: Loss after num_examples=0 & epoch=0: 9.210206.\n",
      "Setting learning rate to 0.002500.\n",
      "Setting learning rate to 0.001250.\n",
      "09:23:29: Loss after num_examples=68615 & epoch=9: 5.133469.\n",
      "Setting learning rate to 0.000625.\n",
      "Setting learning rate to 0.000313.\n",
      "Setting learning rate to 0.000156.\n",
      "18:09:51: Loss after num_examples=137230 & epoch=19: 4.946352.\n",
      "Setting learning rate to 0.000078.\n",
      "Setting learning rate to 0.000039.\n",
      "Setting learning rate to 0.000019.\n",
      "08:31:16: Loss after num_examples=205845 & epoch=29: 4.872901.\n",
      "Setting learning rate to 0.000010.\n",
      "16:14:03: Loss after num_examples=274460 & epoch=39: 4.860681.\n",
      "09:58:14: Loss after num_examples=343075 & epoch=49: 4.853041.\n",
      "Setting learning rate to 0.000002.\n",
      "Setting learning rate to 0.000001.\n",
      "Setting learning rate to 0.000001.\n",
      "21:58:14: Loss after num_examples=411690 & epoch=59: 4.852545."
     ]
    }
   ],
   "source": [
    "## Verify that indeed the algorithm reduces the error over time.\n",
    "losses = train_with_sgd(model, X_train, y_train, l_rate=0.005, epochs=60, evaluate_after=10)"
   ]
  },
  {
   "cell_type": "code",
   "execution_count": 97,
   "metadata": {
    "collapsed": false
   },
   "outputs": [
    {
     "data": {
      "text/plain": [
       "<matplotlib.text.Text at 0x7f983d144710>"
      ]
     },
     "execution_count": 97,
     "metadata": {},
     "output_type": "execute_result"
    },
    {
     "data": {
      "image/png": "[encoded data removed]",
      "text/plain": [
       "<matplotlib.figure.Figure at 0x7f983d0f5d50>"
      ]
     },
     "metadata": {},
     "output_type": "display_data"
    }
   ],
   "source": [
    "plt.plot([l[1] for l in losses], 'go')\n",
    "plt.plot([l[1] for l in losses], 'g-')\n",
    "plt.axhline(np.log(size))\n",
    "plt.title('Random Prediction vs. Model Errors')"
   ]
  },
  {
   "cell_type": "markdown",
   "metadata": {},
   "source": [
    "At first the error rate improves dramatically when compared to the random prediction model, but with each iteration it becomes harder to reduce it further. "
   ]
  },
  {
   "cell_type": "markdown",
   "metadata": {},
   "source": [
    "## Saving the Model\n",
    "\n",
    "Since running this model takes a looong time to run, its a good idea to save the parameters so we can access it or continue training it later. The functions below do this."
   ]
  },
  {
   "cell_type": "code",
   "execution_count": 88,
   "metadata": {
    "collapsed": false
   },
   "outputs": [],
   "source": [
    "def save_model(filepath, model):\n",
    "    U, V, W = model.U.get_value(), model.V.get_value(), model.W.get_value()\n",
    "    np.savez(filepath, U=U, V=V, W=W)\n",
    "    print \"Saved model at '%s'.\" % filepath\n",
    "    \n",
    "def load_model(filepath, model):\n",
    "    npzmodel = np.load(filepath)\n",
    "    U, V, W = npzmodel[\"U\"], npzmodel[\"V\"], npzmodel[\"W\"]\n",
    "    model.h_dim = U.shape[0]\n",
    "    model.w_dim = U.shape[1]\n",
    "    model.U.set_value(U)\n",
    "    model.V.set_value(V)\n",
    "    model.W.set_value(W)\n",
    "    print \"Loaded model parameters from %s.\" % (filepath)"
   ]
  },
  {
   "cell_type": "code",
   "execution_count": 85,
   "metadata": {
    "collapsed": false
   },
   "outputs": [
    {
     "name": "stdout",
     "output_type": "stream",
     "text": [
      "Saved model at 'trained_model.npz.'\n"
     ]
    }
   ],
   "source": [
    "save_model('trained_model.npz', model)"
   ]
  },
  {
   "cell_type": "markdown",
   "metadata": {},
   "source": [
    "## Generating Sentences\n",
    "We can use this generative model to create new sentences that have the highest probability of looking like Bukowski's. The longer we train the network, the better looking sentences the algorithm generates."
   ]
  },
  {
   "cell_type": "code",
   "execution_count": 148,
   "metadata": {
    "collapsed": false,
    "scrolled": true
   },
   "outputs": [
    {
     "name": "stdout",
     "output_type": "stream",
     "text": [
      "reputation uselessly?\n",
      "ostriches remain my arrival,\n",
      "cigarette as both something things\n",
      "you've am Orleans\n",
      "my pier and -which\n",
      "from the biggest 15\n",
      "to butterflies blood...\n",
      "a good a.m. from figures\n",
      "notice seeing night -- -\n",
      "with a buying man is his\n"
     ]
    }
   ],
   "source": [
    "def generate_sentence(model):\n",
    "    # All sentences begin with START_SYMBOL.\n",
    "    new_sentence = [word_index[start_symbol]]\n",
    "    # And end with STOP_SYMBOL.\n",
    "    while not new_sentence[-1] == word_index[stop_symbol]:\n",
    "        next_word_prob = model.fwd_prop(new_sentence)\n",
    "        sampled_word = word_index[unknown_token]\n",
    "        # If unknown token, replace with another word.\n",
    "        while sampled_word == word_index[unknown_token]:\n",
    "            samples = np.random.multinomial(1, next_word_prob[-1])\n",
    "            sampled_word = np.argmax(samples)\n",
    "        new_sentence.append(sampled_word)\n",
    "    sentence = [word_list[x] for x in new_sentence[1:-1]]\n",
    "    return sentence\n",
    "\n",
    "num_sentences = 20\n",
    "min_length = 5\n",
    "\n",
    "for i in range(num_sentences):\n",
    "    sent = []\n",
    "    # Filter out sentences that are too small.\n",
    "    while len(sent) < min_length:\n",
    "        sent = generate_sentence(model)\n",
    "    print ' '.join(sent)"
   ]
  },
  {
   "cell_type": "markdown",
   "metadata": {
    "collapsed": true
   },
   "source": [
    "The 'poem' above was generated after training the network during 10 epochs. Not very exiting so far, but not everybody produces a masterpiece on their first attempt. The example poems below were generated after running the model for 60 epochs, varying the min_length of the sentences, and iterating over the results. Since the training was performed on individual sentences, I've reordered the output to make it a bit more coherent. I also helped the algorithm by selecting titles for each of the texts."
   ]
  },
  {
   "cell_type": "markdown",
   "metadata": {},
   "source": [
    "### Father at Home\n",
    "\n",
    "*my world cold is a*  \n",
    "*scandal home with the bedroom*  \n",
    "*and dislike it pajamas,*  \n",
    "*and my father.*  \n",
    "\n",
    "*time to the machine*  \n",
    "*and the sunlight was still lovely*  \n",
    "*he got to me yard parking*  \n",
    "*these roominghouses the cents*  \n",
    "\n",
    "*my cable tank to a-piece*  \n",
    "*courtesy, razz, bets,*  \n",
    "*as grinned as their little fists hanging new of*  \n",
    "\n",
    "*is god pisses,*  \n",
    "*tell the bible, i showing brains*  \n",
    "*as i knew you*"
   ]
  },
  {
   "cell_type": "markdown",
   "metadata": {
    "collapsed": true
   },
   "source": [
    "### Katherine\n",
    "\n",
    "*schoolgirl than a elevator motel*  \n",
    "*Katherine from the determined shot*  \n",
    "*she had the fuck in*\n",
    "\n",
    "*toward the girly, story panties yes*  \n",
    "*then i told my whore*  \n",
    "*that i know to when the boys*  \n",
    "*can't have a woman*\n",
    "\n",
    "*into little intelligence, the pill*  \n",
    "*into the signal by the lady monster*  \n",
    "*call the green copulating survival nuts toward him*  \n",
    "*not mouth, from another half,*  \n",
    "*down to the court, she said.*\n",
    "\n",
    "*later what out: depression from the worms*"
   ]
  },
  {
   "cell_type": "markdown",
   "metadata": {},
   "source": [
    "### There's Better\n",
    "\n",
    "*Dostoevsky behind night to the sound*  \n",
    "*psychiatrists in Beethoven...*  \n",
    "*spiritually at the men are emergency*\n",
    "\n",
    "*they are not better like to see a gone*  \n",
    "*instead the poor from my wine.*\n",
    "\n",
    "*in any red wine*  \n",
    "*red killed odors as passed, world*  \n",
    "*his glass and muddy wino almost alive.*\n",
    "\n",
    "*flushes, I said, this ridiculous*  \n",
    "*if you drink rays the back bar*  \n",
    "*out the old men will come to me*  \n",
    "*wouldn't want her kiss*  \n",
    "*and i said, but there's better.*"
   ]
  },
  {
   "cell_type": "markdown",
   "metadata": {},
   "source": [
    "### Jailbirds, Monkeys, Women\n",
    "\n",
    "*readings in eyes when he felt all hard sauerkraut  \n",
    "wonderfully bothered break and I got to  \n",
    "the gas he says said into almost  \n",
    "there monkey-rhyme that I walked out of higher,  \n",
    "but jailbirds forced serve in my whore -- -  \n",
    "the change, he said, very tendency woman.*"
   ]
  },
  {
   "cell_type": "markdown",
   "metadata": {},
   "source": [
    "## Next Steps\n",
    "\n",
    "Unfortunately the output sentences are still not very coherent, and due to the way the model was trained, each of them holds no relationship with the prior one. To fully take advantage of the neural network capabilities we need a much larger training sample. Additionally we can enhance the model by implementing a LSTM network, as suggested by Denny on his tutorial on WildML. In any case this proved an interesting exercise, and I'm happy with the results as they do have a Bukowski-like feel, this considering we didn't provide any explicit grammatical information to the model at all."
   ]
  }
 ],
 "metadata": {
  "kernelspec": {
   "display_name": "Python 2",
   "language": "python",
   "name": "python2"
  },
  "language_info": {
   "codemirror_mode": {
    "name": "ipython",
    "version": 2
   },
   "file_extension": ".py",
   "mimetype": "text/x-python",
   "name": "python",
   "nbconvert_exporter": "python",
   "pygments_lexer": "ipython2",
   "version": "2.7.12"
  }
 },
 "nbformat": 4,
 "nbformat_minor": 0
}
