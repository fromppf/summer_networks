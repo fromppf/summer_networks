{
 "cells": [
  {
   "cell_type": "markdown",
   "metadata": {},
   "source": [
    "# Theano Bukowski\n",
    "On this notebook I improve the [Numpy Bukowski](https://github.com/masta-g3/summer_networks/tree/master/numpy_bukowski) poetry model by porting the code to Theano, which should perform much faster. Since the preprocessing section remains exactly the same, I start by loading the formatted dataset into memory."
   ]
  },
  {
   "cell_type": "code",
   "execution_count": 9,
   "metadata": {
    "collapsed": false
   },
   "outputs": [],
   "source": [
    "## Import libaries.\n",
    "import itertools\n",
    "import theano\n",
    "import theano.tensor as T\n",
    "import numpy as np\n",
    "import pandas as pd\n",
    "from datetime import datetime\n",
    "import matplotlib.pyplot as plt\n",
    "import seaborn as sns\n",
    "import nltk\n",
    "\n",
    "%matplotlib inline\n",
    "plt.rcParams['figure.figsize'] = (10.0, 8.0)\n",
    "sns.set_style('whitegrid')"
   ]
  },
  {
   "cell_type": "markdown",
   "metadata": {},
   "source": [
    "## Preprocessing"
   ]
  },
  {
   "cell_type": "code",
   "execution_count": 10,
   "metadata": {
    "collapsed": false
   },
   "outputs": [],
   "source": [
    "size = 10000\n",
    "unknown_token = 'UNKNOWN_TOKEN'\n",
    "start_symbol = 'START_SYMBOL'\n",
    "stop_symbol = 'STOP_SYMBOL'\n",
    "\n",
    "content = pd.read_pickle('data/content.pkl')"
   ]
  },
  {
   "cell_type": "code",
   "execution_count": 11,
   "metadata": {
    "collapsed": false
   },
   "outputs": [
    {
     "name": "stdout",
     "output_type": "stream",
     "text": [
      "Found 16271 unique words tokens.\n"
     ]
    }
   ],
   "source": [
    "## Get word frequency.\n",
    "sentences = [content.loc[i, 'tokens'] for i in content.index]\n",
    "flattened = itertools.chain.from_iterable(sentences) \n",
    "word_freq = nltk.FreqDist(flattened)\n",
    "print 'Found %d unique words tokens.' % len(word_freq.items())"
   ]
  },
  {
   "cell_type": "code",
   "execution_count": 12,
   "metadata": {
    "collapsed": false
   },
   "outputs": [
    {
     "name": "stdout",
     "output_type": "stream",
     "text": [
      "Using vocabulary size 10000.\n",
      "The least frequent word in our vocabulary is 'pandered' and appeared 1 times.\n"
     ]
    }
   ],
   "source": [
    "## Limit vocabulary to most common words.\n",
    "vocab = word_freq.most_common(size-1)\n",
    "word_list = [x[0] for x in vocab]\n",
    "word_list.append(unknown_token)\n",
    "word_list\n",
    "word_index = dict([(w,i) for i,w in enumerate(word_list)])\n",
    "\n",
    "print 'Using vocabulary size %d.' % size\n",
    "print \"The least frequent word in our vocabulary is '%s' (%d appearance).\" % (vocab[-1][0], vocab[-1][1])"
   ]
  },
  {
   "cell_type": "code",
   "execution_count": 13,
   "metadata": {
    "collapsed": false
   },
   "outputs": [
    {
     "name": "stdout",
     "output_type": "stream",
     "text": [
      "Sample processed poem:\n",
      "START_SYMBOL i awakened to dryness and the ferns were dead , STOP_SYMBOL\n",
      "START_SYMBOL the potted plants yellow as corn ; STOP_SYMBOL\n",
      "START_SYMBOL my woman was gone STOP_SYMBOL\n",
      "START_SYMBOL and the empty bottles like bled corpses STOP_SYMBOL\n",
      "START_SYMBOL surrounded me with their uselessness ; STOP_SYMBOL\n",
      "START_SYMBOL the sun was still good , though , STOP_SYMBOL\n",
      "START_SYMBOL and my landlady 's note cracked in fine and STOP_SYMBOL\n",
      "START_SYMBOL undemanding UNKNOWN_TOKEN ; what was needed now STOP_SYMBOL\n",
      "START_SYMBOL was a good comedian , ancient style , a UNKNOWN_TOKEN STOP_SYMBOL\n",
      "START_SYMBOL with jokes upon absurd pain ; pain is absurd STOP_SYMBOL\n",
      "START_SYMBOL because it exists , nothing more ; STOP_SYMBOL\n",
      "START_SYMBOL i shaved carefully with an old razor STOP_SYMBOL\n",
      "START_SYMBOL the man who had once been young and STOP_SYMBOL\n",
      "START_SYMBOL said to have genius ; but STOP_SYMBOL\n",
      "START_SYMBOL that 's the tragedy of the leaves , STOP_SYMBOL\n",
      "START_SYMBOL the dead ferns , the dead plants ; STOP_SYMBOL\n",
      "START_SYMBOL and i walked into a dark hall STOP_SYMBOL\n",
      "START_SYMBOL where the landlady stood STOP_SYMBOL\n",
      "START_SYMBOL UNKNOWN_TOKEN and final , STOP_SYMBOL\n",
      "START_SYMBOL sending me to hell , STOP_SYMBOL\n",
      "START_SYMBOL waving her fat , sweaty arms STOP_SYMBOL\n",
      "START_SYMBOL and screaming STOP_SYMBOL\n",
      "START_SYMBOL screaming for rent STOP_SYMBOL\n",
      "START_SYMBOL because the world had failed us STOP_SYMBOL\n",
      "START_SYMBOL both . STOP_SYMBOL\n"
     ]
    }
   ],
   "source": [
    "## Replace words not in dictionary with the unknown token.\n",
    "for i, row in content.iterrows():\n",
    "    for j, tkn in enumerate(row['tokens']):\n",
    "        if tkn not in word_list:\n",
    "            content.loc[i, 'tokens'][j] = unknown_token\n",
    "            \n",
    "print 'Sample processed poem:'\n",
    "for index, row in content[content['poem'] == 1].iterrows():\n",
    "    print ' '.join(row['tokens'])"
   ]
  },
  {
   "cell_type": "code",
   "execution_count": 14,
   "metadata": {
    "collapsed": false
   },
   "outputs": [
    {
     "name": "stdout",
     "output_type": "stream",
     "text": [
      "Example Input data:  START_SYMBOL there is a UNKNOWN_TOKEN of some sort\n",
      "Example Output data: there is a UNKNOWN_TOKEN of some sort STOP_SYMBOL\n"
     ]
    }
   ],
   "source": [
    "## Convert the info into training data.\n",
    "X_train = np.asarray([[word_index[w] for w in sent[:-1]] for sent in content['tokens'].tolist()])\n",
    "y_train = np.asarray([[word_index[w] for w in sent[1:]] for sent in content['tokens'].tolist()])\n",
    "\n",
    "## Show an example.\n",
    "x_example, y_example = X_train[49], y_train[49]\n",
    "print 'Example Input data: ', \n",
    "input_sent = [word_list[i] for i in x_example]\n",
    "print ' '.join(x for x in input_sent)\n",
    "\n",
    "print 'Example Output data:', \n",
    "output_sent = [word_list[j] for j in y_example]\n",
    "print ' '.join(x for x in output_sent)"
   ]
  },
  {
   "cell_type": "markdown",
   "metadata": {},
   "source": [
    "## Building the Network\n",
    "Now that we have the data in the desired format, we start building the neural network. Our **RNNNumpy** class is made up by the following functions:\n",
    "\n",
    "* *__init__* → Initializes parameters based on the number of word dimensions, hidden dimensions and random values taken from the uniform distribution $ \\left[\\dfrac{-1}{\\sqrt{n}}, \\dfrac{1}{\\sqrt{n}}\\right] $ for (U, V & W).\n",
    "\n",
    "* *forward_propagation* → Generates the word probabilities by unfolding the neural network. Uses $tanh$ activation function for the input layer and $softmax$ for the output one.\n",
    "\n",
    "* *predict* → Returns estimated output (i.e. the word with the highest probability of occuring next) from the forward propagation estimates.\n",
    "\n",
    "* *calculate_loss* → Cross-entropy loss from prediction, as defined by the function below.\n",
    "\n",
    "    $ L(y,o) = \\dfrac{-1}{N} \\sum y_n log(o_n)$\n",
    "\n",
    "  \n",
    "* *bptt* → Back-propagation algorithm, used to estimate gradients and update parameters.\n",
    "\n",
    "* *sgd_step* → SGD to calculate gradients and perform updates in one batch."
   ]
  },
  {
   "cell_type": "code",
   "execution_count": 15,
   "metadata": {
    "collapsed": true
   },
   "outputs": [],
   "source": [
    "class RNNTheano:\n",
    "    \n",
    "    def __init__(self, w_dim, h_dim=100, bptt_max=4):\n",
    "        \n",
    "        ## Set self parameters.\n",
    "        self.w_dim = w_dim\n",
    "        self.h_dim = h_dim\n",
    "        self.bptt_max = bptt_max    \n",
    "        \n",
    "        ## Randomly initialize network parameters. Set to uniform between\n",
    "        ## [-1/n, 1/n], where 'n' is the size of incoming connections.\n",
    "        U = np.random.uniform(-np.sqrt(1./w_dim), np.sqrt(1./w_dim), (h_dim, w_dim))\n",
    "        V = np.random.uniform(-np.sqrt(1./h_dim), np.sqrt(1./h_dim), (w_dim, h_dim))\n",
    "        W = np.random.uniform(-np.sqrt(1./h_dim), np.sqrt(1./h_dim), (h_dim, h_dim))\n",
    "        \n",
    "        ## Assign to self as theano shared variables.\n",
    "        self.U = theano.shared(name='U', value=U.astype(theano.config.floatX))\n",
    "        self.V = theano.shared(name='U', value=V.astype(theano.config.floatX))\n",
    "        self.W = theano.shared(name='W', value=W.astype(theano.config.floatX))\n",
    "        \n",
    "        ## Build Model.\n",
    "        self.theano = {}\n",
    "        self.build_model()\n",
    "    \n",
    "    def build_model(self):\n",
    "        \n",
    "        ## Define parameters.\n",
    "        x = T.ivector('x')\n",
    "        y = T.ivector('y')\n",
    "        U, V, W = self.U, self.V, self.W\n",
    "        \n",
    "        ## Forward propagation to perform at each step.\n",
    "        def fwd_step(x_t, s_t_prev, U, V, W):\n",
    "            s_t = T.tanh(U[:,x_t] + W.dot(s_t_prev))\n",
    "            o_t = T.nnet.softmax(V.dot(s_t))\n",
    "            ## Softmax returns a matrix, so we convert it into a vector.\n",
    "            return [o_t[0], s_t]\n",
    "        \n",
    "        ## Iterate over all observations\n",
    "        [o,s], updates = theano.scan(fwd_step,\n",
    "                                     sequences=x,\n",
    "                                     outputs_info=[None, dict(initial = T.zeros(self.h_dim))],\n",
    "                                     non_sequences=[U,V,W],\n",
    "                                     truncate_gradient=self.bptt_max,\n",
    "                                     strict=True)\n",
    "        \n",
    "        ## Prediction and loss.\n",
    "        predict = T.argmax(o, axis=1)\n",
    "        o_error = T.sum(T.nnet.categorical_crossentropy(o, y))\n",
    "        \n",
    "        ## Define gradients.\n",
    "        dU = T.grad(o_error, U)\n",
    "        dV = T.grad(o_error, V)\n",
    "        dW = T.grad(o_error, W)\n",
    "        \n",
    "        ## Convert graph into actual functions.\n",
    "        self.fwd_prop = theano.function([x], o)\n",
    "        self.predict = theano.function([x], predict)\n",
    "        self.ce_error = theano.function([x,y], o_error)\n",
    "        self.bptt = theano.function([x,y], [dU, dV, dW])\n",
    "    \n",
    "        ## SGD.\n",
    "        l_rate = T.scalar('l_rate')\n",
    "        self.sgd_step = theano.function([x,y,l_rate], [],\n",
    "                                        updates = [(U, U - l_rate * dU),\n",
    "                                                   (V, V - l_rate * dV),\n",
    "                                                   (W, W - l_rate * dW)])\n",
    "    \n",
    "    ## Total loss function...\n",
    "    def total_loss_function(self, X, Y):\n",
    "        return np.sum([self.ce_error(x, y) for x,y in zip(X,Y)])\n",
    "        \n",
    "    ## Loss by words.\n",
    "    def loss_function(self, X, Y):\n",
    "        n = np.sum([len(y) for y in Y])\n",
    "        return self.total_loss_function(X, Y) / float(n)"
   ]
  },
  {
   "cell_type": "code",
   "execution_count": 16,
   "metadata": {
    "collapsed": true
   },
   "outputs": [],
   "source": [
    "def train_with_sgd(model, X_train, y_train, l_rate=0.005, epochs=100, evaluate_loss_after=5):\n",
    "    ## List to keep track of losses.\n",
    "    losses = []\n",
    "    examples_seen = 0\n",
    "    \n",
    "    for epoch in range(epochs):\n",
    "        if(epoch % evaluate_loss_after == 0):\n",
    "            loss = model.loss_function(X_train, y_train)\n",
    "            losses.append((examples_seen, loss))\n",
    "            time = datetime.now().strftime('%H:%M:%S')\n",
    "            print '%s: Loss after num_examples=%d & epoch=%d: %f.' %(time, examples_seen, epoch, loss)\n",
    "            \n",
    "            ## Adjust learning rate if loss increases.\n",
    "            if(len(losses) > 1 and losses[-1][1] > losses[-2][1]):\n",
    "                l_rate = l_rate * 0.5\n",
    "                print 'Updating learning rate to %f.' %l_rate\n",
    "            \n",
    "        ## Save model parameters\n",
    "        #save_model_parameters_theano('./data/rnn-theano-%d-%d-%s.npz' % (model.h_din, model.w_dim, time), model)\n",
    "        \n",
    "        ## For each training example...\n",
    "        for i in range(len(y_train)):\n",
    "            ## do one SGD step.\n",
    "            model.sgd_step(X_train[i], y_train[i], l_rate)\n",
    "            examples_seen += 1\n",
    "    \n",
    "    return losses"
   ]
  },
  {
   "cell_type": "markdown",
   "metadata": {},
   "source": [
    "## Training the Model"
   ]
  },
  {
   "cell_type": "code",
   "execution_count": 17,
   "metadata": {
    "collapsed": false
   },
   "outputs": [],
   "source": [
    "## Create model with theano.\n",
    "model = RNNTheano(size)"
   ]
  },
  {
   "cell_type": "code",
   "execution_count": null,
   "metadata": {
    "collapsed": false
   },
   "outputs": [],
   "source": [
    "## Verify that indeed the algorithm reduces the error over time.\n",
    "losses = train_with_sgd(model, X_train, y_train, l_rate=0.000003, epochs=10, evaluate_loss_after=1)"
   ]
  },
  {
   "cell_type": "code",
   "execution_count": 19,
   "metadata": {
    "collapsed": false
   },
   "outputs": [
    {
     "data": {
      "text/plain": [
       "<matplotlib.text.Text at 0x7f983eb1c910>"
      ]
     },
     "execution_count": 19,
     "metadata": {},
     "output_type": "execute_result"
    },
    {
     "data": {
      "image/png": "[encoded data removed]",
      "text/plain": [
       "<matplotlib.figure.Figure at 0x7f984ef3da90>"
      ]
     },
     "metadata": {},
     "output_type": "display_data"
    }
   ],
   "source": [
    "plt.plot([l[1] for l in losses], 'go')\n",
    "plt.plot([l[1] for l in losses], 'g-')\n",
    "plt.axhline(np.log(size))\n",
    "plt.title('Random Prediction vs. Model Errors')"
   ]
  },
  {
   "cell_type": "markdown",
   "metadata": {},
   "source": [
    "## Generating Sentences\n",
    "We can use this generative model to create new sentences that have the highest probability of looking like Bukowski's. The longer we train the network, the better looking sentences the algorithm generates."
   ]
  },
  {
   "cell_type": "code",
   "execution_count": 36,
   "metadata": {
    "collapsed": false,
    "scrolled": true
   },
   "outputs": [
    {
     "name": "stdout",
     "output_type": "stream",
     "text": [
      "all killed a half old motel sees up the chairs\n",
      "was burn to checkers\n",
      "on your antelope ,\n",
      "a great bad slippers ! ho\n",
      "and their paper comes !\n",
      "germans a homo room .\n",
      "typewriter the time .\n",
      "queer both , the thin said somewhere on so\n",
      "passing your ought , i\n",
      "without join market the tuesday\n"
     ]
    }
   ],
   "source": [
    "def generate_sentence(model):\n",
    "    # All sentences begin with START_SYMBOL.\n",
    "    new_sentence = [word_index[start_symbol]]\n",
    "    # And end with STOP_SYMBOL.\n",
    "    while not new_sentence[-1] == word_index[stop_symbol]:\n",
    "        next_word_prob = model.fwd_prop(new_sentence)\n",
    "        sampled_word = word_index[unknown_token]\n",
    "        # We don't want to sample unknown words\n",
    "        while sampled_word == word_index[unknown_token]:\n",
    "            samples = np.random.multinomial(1, next_word_prob[-1])\n",
    "            sampled_word = np.argmax(samples)\n",
    "        new_sentence.append(sampled_word)\n",
    "    sentence_str = [word_list[x] for x in new_sentence[1:-1]]\n",
    "    return sentence_str\n",
    "\n",
    "num_sentences = 10\n",
    "min_length = 4\n",
    "\n",
    "for i in range(num_sentences):\n",
    "    sent = []\n",
    "    # We want long sentences, not sentences with one or two words\n",
    "    while len(sent) < min_length:\n",
    "        sent = generate_sentence(model)\n",
    "    print ' '.join(sent)"
   ]
  },
  {
   "cell_type": "code",
   "execution_count": null,
   "metadata": {
    "collapsed": true
   },
   "outputs": [],
   "source": []
  }
 ],
 "metadata": {
  "kernelspec": {
   "display_name": "Python 2",
   "language": "python",
   "name": "python2"
  },
  "language_info": {
   "codemirror_mode": {
    "name": "ipython",
    "version": 2
   },
   "file_extension": ".py",
   "mimetype": "text/x-python",
   "name": "python",
   "nbconvert_exporter": "python",
   "pygments_lexer": "ipython2",
   "version": "2.7.12"
  }
 },
 "nbformat": 4,
 "nbformat_minor": 0
}
